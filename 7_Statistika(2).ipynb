{
  "nbformat": 4,
  "nbformat_minor": 0,
  "metadata": {
    "colab": {
      "provenance": []
    },
    "kernelspec": {
      "name": "python3",
      "display_name": "Python 3"
    },
    "language_info": {
      "name": "python"
    }
  },
  "cells": [
    {
      "cell_type": "markdown",
      "source": [
        "# Statistic For Data Analyst(2)"
      ],
      "metadata": {
        "id": "SxXQrv8m4Jte"
      }
    },
    {
      "cell_type": "markdown",
      "source": [
        "## Korelasi: Pearson, Spearman, dan Kendall"
      ],
      "metadata": {
        "id": "X-sEFK5N4Z4t"
      }
    },
    {
      "cell_type": "code",
      "execution_count": 2,
      "metadata": {
        "colab": {
          "base_uri": "https://localhost:8080/"
        },
        "id": "9jqunpY-36Zi",
        "outputId": "3b2a327b-f43f-4686-e961-f37f3b7e9205"
      },
      "outputs": [
        {
          "output_type": "stream",
          "name": "stdout",
          "text": [
            "Korelasi Pearson:  0.8195737385236203\n",
            "Korelasi Spearman:  0.7999999999999999\n",
            "Korelasi Kendall:  SignificanceResult(statistic=0.6, pvalue=0.23333333333333334)\n"
          ]
        }
      ],
      "source": [
        "import numpy as np\n",
        "import scipy.stats\n",
        "\n",
        "# Dta tinggi badan dan berat badan\n",
        "height =  np.array([170,175,180,172,178])\n",
        "weight = np.array([60, 70, 80, 75,85])\n",
        "\n",
        "# koeralsi Pearson\n",
        "pearson_corr, _ = scipy.stats.pearsonr(height, weight)\n",
        "\n",
        "# korelasi Spearman\n",
        "spearman_corr, _ = scipy.stats.spearmanr(height, weight)\n",
        "\n",
        "# korelasi Kendall\n",
        "kendall_corr= scipy.stats.kendalltau(height, weight)\n",
        "\n",
        "print(\"Korelasi Pearson: \",pearson_corr)\n",
        "print(\"Korelasi Spearman: \",spearman_corr)\n",
        "print(\"Korelasi Kendall: \",kendall_corr)"
      ]
    },
    {
      "cell_type": "markdown",
      "source": [
        "## Regresi Linear Berganda"
      ],
      "metadata": {
        "id": "Z7Dnd8Yi5XFl"
      }
    },
    {
      "cell_type": "code",
      "source": [
        "import numpy as np\n",
        "import pandas as pd\n",
        "from sklearn.linear_model import LinearRegression\n",
        "\n",
        "#Buat data sintetis\n",
        "data = pd.DataFrame({\n",
        "    'luas_tanah' : np.random.randint(50,200, size=100),\n",
        "    'jumlah_kamar': np.random.randint(1,5, size=100),\n",
        "    'usia_rumah' : np.random.randint(1,30, size=100),\n",
        "    'harga_rumah': np.random.randint(100000000,500000000, size=100)\n",
        "})\n",
        "\n",
        "#Split Data menjadi training dan testing\n",
        "X_train = data[['luas_tanah','jumlah_kamar','usia_rumah']]\n",
        "y_train = data['harga_rumah']\n",
        "\n",
        "# Buat model dengan regresi linear berganda\n",
        "model = LinearRegression()\n",
        "model.fit(X_train, y_train)\n",
        "\n",
        "# Prediksi\n",
        "y_pred = model.predict(X_train)\n",
        "\n",
        "#Evaluasi model\n",
        "print('R-squared: ', model.score(X_train, y_train))\n",
        "\n",
        "# Melihar koefisien regresi\n",
        "print('Koefisien: ', model.coef_)"
      ],
      "metadata": {
        "colab": {
          "base_uri": "https://localhost:8080/"
        },
        "id": "HSyLesZT5IXr",
        "outputId": "60ff24d1-f51d-4cb3-ecc9-fd2f99a52797"
      },
      "execution_count": 4,
      "outputs": [
        {
          "output_type": "stream",
          "name": "stdout",
          "text": [
            "R-squared:  0.019717271322091334\n",
            "Koefisien:  [  -12201.64243487 -7171386.95590739 -1733108.49761365]\n"
          ]
        }
      ]
    }
  ]
}